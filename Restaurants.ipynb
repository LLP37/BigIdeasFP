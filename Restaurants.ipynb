{
 "cells": [
  {
   "cell_type": "code",
   "execution_count": 1,
   "metadata": {},
   "outputs": [],
   "source": [
    "import pandas as pd\n",
    "import numpy as np\n",
    "%matplotlib inline"
   ]
  },
  {
   "cell_type": "code",
   "execution_count": 2,
   "metadata": {},
   "outputs": [],
   "source": [
    "rest=pd.read_csv(\"restaurant.csv\")"
   ]
  },
  {
   "cell_type": "code",
   "execution_count": 3,
   "metadata": {},
   "outputs": [
    {
     "data": {
      "text/plain": [
       "id                   0\n",
       "facility_name        0\n",
       "num                801\n",
       "street               6\n",
       "city                 7\n",
       "state                7\n",
       "zip                  7\n",
       "municipal            3\n",
       "category_cd          0\n",
       "description          0\n",
       "p_code              27\n",
       "fdo                 44\n",
       "bus_st_date         67\n",
       "bus_cl_date      19246\n",
       "seat_count       11537\n",
       "noroom           24490\n",
       "sq_feet          14781\n",
       "status               0\n",
       "placard_st        9948\n",
       "x                 6651\n",
       "y                 6651\n",
       "address              0\n",
       "dtype: int64"
      ]
     },
     "execution_count": 3,
     "metadata": {},
     "output_type": "execute_result"
    }
   ],
   "source": [
    "rest.isnull().sum()"
   ]
  },
  {
   "cell_type": "code",
   "execution_count": 4,
   "metadata": {},
   "outputs": [],
   "source": [
    "food= rest[['id', 'facility_name', 'city', 'zip']]"
   ]
  },
  {
   "cell_type": "code",
   "execution_count": 5,
   "metadata": {},
   "outputs": [
    {
     "data": {
      "text/plain": [
       "id               0\n",
       "facility_name    0\n",
       "city             7\n",
       "zip              7\n",
       "dtype: int64"
      ]
     },
     "execution_count": 5,
     "metadata": {},
     "output_type": "execute_result"
    }
   ],
   "source": [
    "food.isnull().sum()"
   ]
  },
  {
   "cell_type": "code",
   "execution_count": 6,
   "metadata": {},
   "outputs": [
    {
     "name": "stderr",
     "output_type": "stream",
     "text": [
      "/opt/tljh/user/lib/python3.6/site-packages/pandas/core/generic.py:6287: SettingWithCopyWarning: \n",
      "A value is trying to be set on a copy of a slice from a DataFrame\n",
      "\n",
      "See the caveats in the documentation: http://pandas.pydata.org/pandas-docs/stable/user_guide/indexing.html#returning-a-view-versus-a-copy\n",
      "  self._update_inplace(new_data)\n"
     ]
    }
   ],
   "source": [
    "#I decided to delete the rows that have a missing city or zipcode, because there are only 14 of them and about \n",
    "#25,500 overall entries I do not think it will skew the results or anything.\n",
    "food[\"city\"].fillna(\"Unknown\", inplace=True)\n",
    "food[\"zip\"].fillna(\"0\", inplace=True)\n",
    "food = food[food['zip'] != 0]\n",
    "food = food[food['city'] != \"Unknown\"]"
   ]
  },
  {
   "cell_type": "code",
   "execution_count": 7,
   "metadata": {},
   "outputs": [
    {
     "data": {
      "text/plain": [
       "id               0\n",
       "facility_name    0\n",
       "city             0\n",
       "zip              0\n",
       "dtype: int64"
      ]
     },
     "execution_count": 7,
     "metadata": {},
     "output_type": "execute_result"
    }
   ],
   "source": [
    "food.isnull().sum()"
   ]
  },
  {
   "cell_type": "code",
   "execution_count": 8,
   "metadata": {},
   "outputs": [],
   "source": [
    "#Get rid of entries where the city is not Pittsburgh \n",
    "food= food[food['city'] == \"Pittsburgh\"]"
   ]
  },
  {
   "cell_type": "code",
   "execution_count": 9,
   "metadata": {},
   "outputs": [
    {
     "data": {
      "text/plain": [
       "15222.0    1406\n",
       "15212.0    1085\n",
       "15213.0     947\n",
       "15219.0     919\n",
       "15237.0     824\n",
       "15205.0     668\n",
       "15206.0     624\n",
       "15203.0     586\n",
       "15235.0     548\n",
       "15210.0     498\n",
       "15221.0     484\n",
       "15236.0     434\n",
       "15224.0     429\n",
       "15217.0     427\n",
       "15201.0     400\n",
       "15216.0     391\n",
       "15238.0     341\n",
       "15227.0     325\n",
       "15220.0     321\n",
       "15202.0     299\n",
       "15215.0     289\n",
       "15241.0     263\n",
       "15231.0     252\n",
       "15234.0     252\n",
       "15226.0     245\n",
       "15218.0     244\n",
       "15208.0     236\n",
       "15232.0     227\n",
       "15228.0     225\n",
       "15239.0     222\n",
       "15209.0     215\n",
       "15223.0     176\n",
       "15229.0     161\n",
       "15207.0     145\n",
       "15275.0     144\n",
       "15233.0     136\n",
       "15214.0     136\n",
       "15211.0     114\n",
       "15204.0      99\n",
       "15243.0      68\n",
       "15261.0      48\n",
       "15225.0      36\n",
       "15282.0      31\n",
       "15260.0       9\n",
       "15276.0       7\n",
       "15240.0       5\n",
       "15230.0       3\n",
       "15242.0       3\n",
       "15244.0       1\n",
       "15259.0       1\n",
       "Name: zip, dtype: int64"
      ]
     },
     "execution_count": 9,
     "metadata": {},
     "output_type": "execute_result"
    }
   ],
   "source": [
    "#Look at the different zipcodes to see which one has the most food options\n",
    "food['zip'].value_counts()"
   ]
  },
  {
   "cell_type": "code",
   "execution_count": 12,
   "metadata": {},
   "outputs": [
    {
     "data": {
      "text/plain": [
       "<matplotlib.axes._subplots.AxesSubplot at 0x7f19f0071d68>"
      ]
     },
     "execution_count": 12,
     "metadata": {},
     "output_type": "execute_result"
    },
    {
     "data": {
      "image/png": "[encoded data removed]",
      "text/plain": [
       "<Figure size 432x288 with 1 Axes>"
      ]
     },
     "metadata": {
      "needs_background": "light"
     },
     "output_type": "display_data"
    }
   ],
   "source": [
    "#This is a visualization of the above data, which is a good way of showing that 15222 does have the most food\n",
    "#options in Pittsburgh\n",
    "food[\"zip\"].hist(bins=100)"
   ]
  },
  {
   "cell_type": "markdown",
   "metadata": {},
   "source": [
    "Based on the above information, the best neighborhood to live in based on the amount of food options (restaurants, bars, and supermarkets) is 15222 (the Troy Hill neighborhood) which encompasses Downtown Pittsburgh. Amount of food options is a good measure of bestness, because people want to live in a neighborhood where there is a lot going on, and lots of people like to go out to bars and restaurants so food options seems like a perfect things to look at when measuring \"bestness\"."
   ]
  },
  {
   "cell_type": "code",
   "execution_count": null,
   "metadata": {},
   "outputs": [],
   "source": []
  }
 ],
 "metadata": {
  "kernelspec": {
   "display_name": "Python 3",
   "language": "python",
   "name": "python3"
  },
  "language_info": {
   "codemirror_mode": {
    "name": "ipython",
    "version": 3
   },
   "file_extension": ".py",
   "mimetype": "text/x-python",
   "name": "python",
   "nbconvert_exporter": "python",
   "pygments_lexer": "ipython3",
   "version": "3.6.7"
  }
 },
 "nbformat": 4,
 "nbformat_minor": 4
}
